{
 "cells": [
  {
   "cell_type": "markdown",
   "id": "577833bb",
   "metadata": {},
   "source": [
    "#### 1. In the below elements which of them are values or an expression? \n",
    "```\n",
    "eg:- values can be\n",
    "integer or string and expressions will be mathematical operators.\n",
    "*\n",
    "&#39;hello&#39;\n",
    "-87.8\n",
    "-\n",
    "/\n",
    "+\n",
    "6\n",
    "```"
   ]
  },
  {
   "cell_type": "markdown",
   "id": "448ce45a",
   "metadata": {},
   "source": [
    "```\n",
    "values: &#39;hello&#39;\n",
    "        -87.8\n",
    "        6\n",
    "\n",
    "\n",
    "Expression: *\n",
    "            -\n",
    "            /\n",
    "            +\n",
    "```            "
   ]
  },
  {
   "cell_type": "markdown",
   "id": "e8cda055",
   "metadata": {},
   "source": [
    "#### 2. What is the difference between string and variable?"
   ]
  },
  {
   "cell_type": "markdown",
   "id": "70dce9fa",
   "metadata": {},
   "source": [
    "String is collection of characters written inside quotes,and variables are objects that contain some values or it is an object which holds some values\n",
    "\n",
    "eg...\n",
    "```\n",
    "string   : \"hello\",\"HI\",\"Hi how are you?\",\"its 10pm\"\n",
    "variable : a=10\n",
    "         Here a is a variable containg 10 is its value\n",
    "           add=25\n",
    "         Here add is the variable containing 25 is its value.\n",
    "```"
   ]
  },
  {
   "cell_type": "markdown",
   "id": "185fcbdb",
   "metadata": {},
   "source": [
    "#### 3. Describe three different data types."
   ]
  },
  {
   "cell_type": "markdown",
   "id": "e8e2ea9c",
   "metadata": {},
   "source": [
    "```\n",
    "integer,float and string are three different datatypes in python.\n",
    "integer is represented as int,\n",
    "float is represented as float,\n",
    "string is represented as str.\n",
    "\n",
    "Eg...\n",
    "    int:67,1,5,90 etc\n",
    "    float:550.8,10.9,3.0,etc\n",
    "    str:\"hello\",\"ajhsjs\",\"hfhj\",etc\n",
    "``` "
   ]
  },
  {
   "cell_type": "markdown",
   "id": "7691657b",
   "metadata": {},
   "source": [
    "#### 4. What is an expression made up of? What do all expressions do?"
   ]
  },
  {
   "cell_type": "markdown",
   "id": "dbdcf7fb",
   "metadata": {},
   "source": [
    "Expressions is made up of combination of operators and numbers.\n",
    "Expressions are used to make equations that return a value.\n",
    "\n",
    "Eg...\n",
    "    (4+5) is an Expression\n",
    "    "
   ]
  },
  {
   "cell_type": "markdown",
   "id": "858f22a9",
   "metadata": {},
   "source": [
    "#### 5. This assignment statements, like spam = 10. What is the difference between an expression and a statement?"
   ]
  },
  {
   "cell_type": "markdown",
   "id": "e22fa802",
   "metadata": {},
   "source": [
    "```\n",
    "A statement is something that executes but does not return any value.\n",
    "Eg: spam=10 assigns value 10 to varable spam, but does not return any value.\n",
    "\n",
    "An expression is combination of operators and operands that performs calculation and return a value.\n",
    "Eg: 6y+5 is an Expression that returns a value\n",
    "```"
   ]
  },
  {
   "cell_type": "markdown",
   "id": "5c57a3a6",
   "metadata": {},
   "source": [
    "#### 6. After running the following code, what does the variable bacon contain?\n",
    "bacon = 22\n",
    "\n",
    "bacon + 1"
   ]
  },
  {
   "cell_type": "code",
   "execution_count": 4,
   "id": "0c5acecb",
   "metadata": {},
   "outputs": [
    {
     "name": "stdout",
     "output_type": "stream",
     "text": [
      "23\n"
     ]
    }
   ],
   "source": [
    "bacon = 22\n",
    "print(bacon + 1)"
   ]
  },
  {
   "cell_type": "markdown",
   "id": "861ba9d5",
   "metadata": {},
   "source": [
    "#### 7. What should the values of the following two terms be?\n",
    "\n",
    "&#39;spam&#39; + &#39;spamspam&#39;\n",
    "\n",
    "&#39;spam&#39; * 3"
   ]
  },
  {
   "cell_type": "code",
   "execution_count": 5,
   "id": "17228255",
   "metadata": {},
   "outputs": [
    {
     "data": {
      "text/plain": [
       "'spamspamspam'"
      ]
     },
     "execution_count": 5,
     "metadata": {},
     "output_type": "execute_result"
    }
   ],
   "source": [
    "'spam' + 'spamspam'"
   ]
  },
  {
   "cell_type": "code",
   "execution_count": 6,
   "id": "86a9197f",
   "metadata": {},
   "outputs": [
    {
     "data": {
      "text/plain": [
       "'spamspamspam'"
      ]
     },
     "execution_count": 6,
     "metadata": {},
     "output_type": "execute_result"
    }
   ],
   "source": [
    "'spam'*3"
   ]
  },
  {
   "cell_type": "markdown",
   "id": "b182c499",
   "metadata": {},
   "source": [
    "#### 8. Why is eggs a valid variable name while 100 is invalid?"
   ]
  },
  {
   "cell_type": "markdown",
   "id": "02c6d108",
   "metadata": {},
   "source": [
    "```\n",
    "Variables is made up of letters,numbers and special symbols.\n",
    "variables have some exceptions that variable cannot start with numbers and symbols, it only starts with alphabets.\n",
    "So,\n",
    "eggs : is valid variable name as it starts with alphabets.\n",
    "100  : is invalid as it starts with number and number si not allowed in starting of variable name.\n",
    "```"
   ]
  },
  {
   "cell_type": "markdown",
   "id": "b3be5e50",
   "metadata": {},
   "source": [
    "#### 9. What three functions can be used to get the integer, floating-point number, or string version of a value?"
   ]
  },
  {
   "cell_type": "markdown",
   "id": "e97046b6",
   "metadata": {},
   "source": [
    "```\n",
    "int() fuction is used to get integer\n",
    "float() function is used to get floating point number or decimal number.\n",
    "str() function is used to get string.\n",
    "```"
   ]
  },
  {
   "cell_type": "markdown",
   "id": "5a049a67",
   "metadata": {},
   "source": [
    "#### 10. Why does this expression cause an error? How can you fix it?\n",
    "      \n",
    "&#39;I have eaten &#39; + 99 + &#39; burritos.&#39;"
   ]
  },
  {
   "cell_type": "code",
   "execution_count": 8,
   "id": "4cb8c86e",
   "metadata": {},
   "outputs": [
    {
     "data": {
      "text/plain": [
       "'I have eaten 99 burritos.'"
      ]
     },
     "execution_count": 8,
     "metadata": {},
     "output_type": "execute_result"
    }
   ],
   "source": [
    "'I have eaten ' + \"99\" + ' burritos.'"
   ]
  },
  {
   "cell_type": "code",
   "execution_count": null,
   "id": "ee0d07aa",
   "metadata": {},
   "outputs": [],
   "source": []
  }
 ],
 "metadata": {
  "kernelspec": {
   "display_name": "Python 3 (ipykernel)",
   "language": "python",
   "name": "python3"
  },
  "language_info": {
   "codemirror_mode": {
    "name": "ipython",
    "version": 3
   },
   "file_extension": ".py",
   "mimetype": "text/x-python",
   "name": "python",
   "nbconvert_exporter": "python",
   "pygments_lexer": "ipython3",
   "version": "3.9.7"
  }
 },
 "nbformat": 4,
 "nbformat_minor": 5
}
